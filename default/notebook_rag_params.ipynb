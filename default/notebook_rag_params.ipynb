{
 "cells": [
  {
   "cell_type": "code",
   "id": "initial_id",
   "metadata": {
    "collapsed": true,
    "ExecuteTime": {
     "end_time": "2025-04-03T01:51:41.536726Z",
     "start_time": "2025-04-03T01:51:41.533549Z"
    }
   },
   "source": [
    "from nbformat.v2 import new_metadata\n",
    "\n",
    "import default.custom_functions as cf\n",
    "import os"
   ],
   "outputs": [],
   "execution_count": 13
  },
  {
   "metadata": {
    "ExecuteTime": {
     "end_time": "2025-04-03T01:57:42.965476Z",
     "start_time": "2025-04-03T01:57:42.955252Z"
    }
   },
   "cell_type": "code",
   "source": [
    "from dotenv import load_dotenv\n",
    "load_dotenv()"
   ],
   "id": "ac29d35d72aceee3",
   "outputs": [
    {
     "data": {
      "text/plain": [
       "True"
      ]
     },
     "execution_count": 21,
     "metadata": {},
     "output_type": "execute_result"
    }
   ],
   "execution_count": 21
  },
  {
   "metadata": {
    "ExecuteTime": {
     "end_time": "2025-04-03T01:51:41.930363Z",
     "start_time": "2025-04-03T01:51:41.927754Z"
    }
   },
   "cell_type": "code",
   "source": [
    "os.chdir(\"/Users/sivaguganjayachandran/PycharmProjects/msu-dse-lab\")\n",
    "\n",
    "json_files = ['json/Middle and High School_Chemistry/' + f for f in os.listdir('json/Middle and High School_Chemistry') if f.endswith('.json')]\n"
   ],
   "id": "34ec06faea54def9",
   "outputs": [],
   "execution_count": 14
  },
  {
   "metadata": {
    "ExecuteTime": {
     "end_time": "2025-04-03T01:56:07.431244Z",
     "start_time": "2025-04-03T01:56:06.705625Z"
    }
   },
   "cell_type": "code",
   "source": [
    "vector_dict = cf.load_json_files(json_files)\n",
    "#vector_dict"
   ],
   "id": "a3698c39d5d158cb",
   "outputs": [],
   "execution_count": 18
  },
  {
   "metadata": {
    "ExecuteTime": {
     "end_time": "2025-04-03T01:58:41.079747Z",
     "start_time": "2025-04-03T01:58:40.813280Z"
    }
   },
   "cell_type": "code",
   "source": [
    "query_embeddings = cf.generate_query_embeddings('kjasbcoan c')\n",
    "query_embeddings.shape"
   ],
   "id": "b5838292df096f74",
   "outputs": [
    {
     "data": {
      "text/plain": [
       "(1, 1536)"
      ]
     },
     "execution_count": 24,
     "metadata": {},
     "output_type": "execute_result"
    }
   ],
   "execution_count": 24
  },
  {
   "metadata": {
    "ExecuteTime": {
     "end_time": "2025-04-03T02:13:49.425295Z",
     "start_time": "2025-04-03T02:13:49.421639Z"
    }
   },
   "cell_type": "code",
   "source": "vector_dict[\"metadata\"][0]",
   "id": "da3ccf32998e411",
   "outputs": [
    {
     "data": {
      "text/plain": [
       "{'pdf_name': 'Unpacking',\n",
       " 'document_collection_name': 'Middle and High School Chemistry'}"
      ]
     },
     "execution_count": 45,
     "metadata": {},
     "output_type": "execute_result"
    }
   ],
   "execution_count": 45
  },
  {
   "metadata": {
    "ExecuteTime": {
     "end_time": "2025-04-03T03:53:41.670408Z",
     "start_time": "2025-04-03T03:53:41.063045Z"
    }
   },
   "cell_type": "code",
   "source": [
    "user_query = 'what is chemistry?'\n",
    "\n",
    "selected_document = 'ScientificModeling_Mayer'\n",
    "selected_collection = 'Middle and High School Chemistry'\n",
    "diversity = 1\n",
    "top_n = 3\n",
    "\n",
    "query_params = {\n",
    "    \"query_embeddings\" : cf.generate_query_embeddings(user_query),\n",
    "    \"pdf_name\": selected_document,\n",
    "    \"document_collection_name\": selected_collection,\n",
    "    \"diversity\": diversity,\n",
    "    \"top_n\": top_n\n",
    "}"
   ],
   "id": "2640600aed0f59a9",
   "outputs": [],
   "execution_count": 106
  },
  {
   "metadata": {},
   "cell_type": "code",
   "outputs": [],
   "execution_count": null,
   "source": [
    "def query_vector_dict( vector_dict, query_params ):\n",
    "\n",
    "    ids = vector_dict[\"ids\"]\n",
    "    documents = vector_dict[\"documents\"]\n",
    "    metadata = vector_dict[\"metadata\"]\n",
    "    embeddings = vector_dict[\"embeddings\"]\n",
    "\n",
    "    # Function to filter metadata or documents based on where conditions\n",
    "    def apply_filter(data, filter_condition):\n",
    "        if filter_condition is None:\n",
    "            return data\n",
    "        filtered_data = []\n",
    "        for item in data:\n",
    "            if all(item.get(key) == value for key, value in filter_condition.items()):\n",
    "                filtered_data.append(item)\n",
    "        return filtered_data\n",
    "\n",
    "    # Apply the `where` and `where_document` filters\n",
    "    if where:\n",
    "        metadata = apply_filter(metadata, where)\n",
    "    if where_document:\n",
    "        documents = apply_filter(documents, where_document)\n",
    "\n",
    "    # Ensure we also filter embeddings and ids based on the metadata or documents filter\n",
    "    # We need to ensure the filtered metadata is indexed correctly\n",
    "    filtered_metadata = [metadata[i] for i in range(len(metadata)) if metadata[i] in metadata]\n",
    "    filtered_ids = [ids[i] for i in range(len(ids)) if metadata[i] in filtered_metadata]\n",
    "    filtered_documents = [documents[i] for i in range(len(documents)) if metadata[i] in filtered_metadata]\n",
    "    filtered_embeddings = [embeddings[i] for i in range(len(embeddings)) if metadata[i] in filtered_metadata]\n",
    "\n",
    "    # Calculate the cosine similarity for query_embeddings or query_texts\n",
    "    if query_embeddings is not None:\n",
    "        similarities = cosine_similarity(query_embeddings, filtered_embeddings)\n",
    "    elif query_texts is not None:\n",
    "        # Generate embeddings for the query_texts\n",
    "        query_embeddings = generate_embeddings(query_texts)\n",
    "        similarities = cosine_similarity(query_embeddings, filtered_embeddings)\n",
    "    else:\n",
    "        raise ValueError(\"Either query_embeddings or query_texts must be provided.\")\n",
    "\n",
    "    # Get the closest neighbors (sorted by descending similarity)\n",
    "    closest_indices = np.argsort(similarities, axis=1)[:, ::-1][:, :n_results]\n",
    "\n",
    "    # Prepare the results\n",
    "    results = {\n",
    "        \"ids\": [filtered_ids[i] for i in closest_indices.flatten()],\n",
    "        \"documents\": [filtered_documents[i] for i in closest_indices.flatten()],\n",
    "        \"metadata\": [filtered_metadata[i] for i in closest_indices.flatten()],\n",
    "        \"distances\": [similarities[0, i] for i in closest_indices.flatten()]\n",
    "    }\n",
    "\n",
    "    # Include only the specified fields\n",
    "    filtered_results = {}\n",
    "    if \"embeddings\" in include:\n",
    "        filtered_results[\"embeddings\"] = [filtered_embeddings[i] for i in closest_indices.flatten()]\n",
    "    if \"metadatas\" in include:\n",
    "        filtered_results[\"metadata\"] = [filtered_metadata[i] for i in closest_indices.flatten()]\n",
    "    if \"documents\" in include:\n",
    "        filtered_results[\"documents\"] = [filtered_documents[i] for i in closest_indices.flatten()]\n",
    "    if \"distances\" in include:\n",
    "        filtered_results[\"distances\"] = [similarities[0, i] for i in closest_indices.flatten()]\n",
    "\n",
    "    return filtered_results"
   ],
   "id": "c1b8b8a3285daef0"
  },
  {
   "metadata": {
    "ExecuteTime": {
     "end_time": "2025-04-03T02:16:03.361901Z",
     "start_time": "2025-04-03T02:16:03.358522Z"
    }
   },
   "cell_type": "code",
   "source": [
    "def print_dict_outline(d, indent=0):\n",
    "    for key, value in d.items():\n",
    "        print(\"  \" * indent + str(key))  # Indent for hierarchy\n",
    "        if isinstance(value, dict):  # If value is a dict, go deeper\n",
    "            print_dict_outline(value, indent + 1)\n",
    "\n",
    "print_dict_outline(vector_dict)"
   ],
   "id": "50b5d8f87e025a4b",
   "outputs": [
    {
     "name": "stdout",
     "output_type": "stream",
     "text": [
      "ids\n",
      "documents\n",
      "metadata\n",
      "embeddings\n"
     ]
    }
   ],
   "execution_count": 46
  },
  {
   "metadata": {
    "ExecuteTime": {
     "end_time": "2025-04-03T02:54:21.102481Z",
     "start_time": "2025-04-03T02:54:21.099262Z"
    }
   },
   "cell_type": "code",
   "source": "vector_dict.keys()",
   "id": "e54dcfbe62a09801",
   "outputs": [
    {
     "data": {
      "text/plain": [
       "dict_keys(['ids', 'documents', 'metadata', 'embeddings'])"
      ]
     },
     "execution_count": 77,
     "metadata": {},
     "output_type": "execute_result"
    }
   ],
   "execution_count": 77
  },
  {
   "metadata": {
    "ExecuteTime": {
     "end_time": "2025-04-03T02:47:18.185338Z",
     "start_time": "2025-04-03T02:47:18.183609Z"
    }
   },
   "cell_type": "code",
   "source": "",
   "id": "ed62e5ac32f6bf96",
   "outputs": [],
   "execution_count": null
  },
  {
   "metadata": {
    "ExecuteTime": {
     "end_time": "2025-04-03T02:49:01.271148Z",
     "start_time": "2025-04-03T02:49:01.268669Z"
    }
   },
   "cell_type": "code",
   "source": "vector_dict.keys()",
   "id": "fb25b3c910bf9ce8",
   "outputs": [
    {
     "data": {
      "text/plain": [
       "dict_keys(['ids', 'documents', 'metadata', 'embeddings'])"
      ]
     },
     "execution_count": 69,
     "metadata": {},
     "output_type": "execute_result"
    }
   ],
   "execution_count": 69
  },
  {
   "metadata": {
    "ExecuteTime": {
     "end_time": "2025-04-03T02:57:24.058510Z",
     "start_time": "2025-04-03T02:57:24.051966Z"
    }
   },
   "cell_type": "code",
   "source": [
    "new_dict = {\n",
    "    'metadata' : [],\n",
    "    'ids' : [],\n",
    "    'embeddings' : [],\n",
    "    'documents' : []\n",
    "}\n",
    "\n",
    "if query_params['document_collection_name'] is not None or query_params['document_collection_name'] != 'All':\n",
    "\n",
    "    for i in range(len(vector_dict['ids'])) :\n",
    "\n",
    "        if vector_dict['metadata'][i]['document_collection_name'] == query_params['document_collection_name'] :\n",
    "            new_dict['metadata'].append(vector_dict['metadata'][i])\n",
    "            new_dict['ids'].append(vector_dict['ids'][i])\n",
    "            new_dict['embeddings'].append(vector_dict['embeddings'][i])\n",
    "            new_dict['documents'].append(vector_dict['documents'][i])\n"
   ],
   "id": "61d9ebbfb9666910",
   "outputs": [],
   "execution_count": 85
  },
  {
   "metadata": {
    "ExecuteTime": {
     "end_time": "2025-04-03T03:12:26.178438Z",
     "start_time": "2025-04-03T03:12:26.175122Z"
    }
   },
   "cell_type": "code",
   "source": [
    "\n",
    "\n",
    "if query_params['pdf_name'] is not None or query_params['pdf_name'] != 'All':\n",
    "\n",
    "    for i in range(len(vector_dict['ids'])) :\n",
    "\n",
    "        if vector_dict['metadata'][i]['pdf_name'] == query_params['pdf_name'] :\n",
    "            new_dict['metadata'].append(vector_dict['metadata'][i])\n",
    "            new_dict['ids'].append(vector_dict['ids'][i])\n",
    "            new_dict['embeddings'].append(vector_dict['embeddings'][i])\n",
    "            new_dict['documents'].append(vector_dict['documents'][i])\n",
    "\n",
    "if query_params['pdf_name'] is not None or query_params['pdf_name'] != 'All' and query_params['document_collection_name'] is not None or query_params['document_collection_name'] != 'All':\n",
    "\n",
    "    for i in range(len(vector_dict['ids'])) :\n",
    "\n",
    "        if vector_dict['metadata'][i]['pdf_name'] == query_params['pdf_name'] and vector_dict['metadata'][i]['document_collection_name'] == query_params['document_collection_name'] :\n",
    "            new_dict['metadata'].append(vector_dict['metadata'][i])\n",
    "            new_dict['ids'].append(vector_dict['ids'][i])\n",
    "            new_dict['embeddings'].append(vector_dict['embeddings'][i])\n",
    "            new_dict['documents'].append(vector_dict['documents'][i])"
   ],
   "id": "d4456e25cfd1b5f0",
   "outputs": [
    {
     "data": {
      "text/plain": [
       "dict_keys(['metadata', 'ids', 'embeddings', 'documents'])"
      ]
     },
     "execution_count": 91,
     "metadata": {},
     "output_type": "execute_result"
    }
   ],
   "execution_count": 91
  },
  {
   "metadata": {
    "ExecuteTime": {
     "end_time": "2025-04-03T03:15:07.251933Z",
     "start_time": "2025-04-03T03:15:07.246353Z"
    }
   },
   "cell_type": "code",
   "source": [
    "list = []\n",
    "for i in range(len(new_dict['metadata'])) :\n",
    "    list.append(new_dict['metadata'][i]['pdf_name'])\n",
    "\n",
    "list = set(list)\n",
    "list"
   ],
   "id": "eca474d25fb7c74d",
   "outputs": [
    {
     "data": {
      "text/plain": [
       "{'AssessModel',\n",
       " 'DeBarger etal Constructing Assessment Item',\n",
       " 'DesignPrinciples_3DAssessment',\n",
       " 'DesingScientificExplanationTasks',\n",
       " 'Evaluating3DTasks',\n",
       " 'Gotwals_LP_Assessment',\n",
       " 'Harris et al_Assessment',\n",
       " 'Harris et al_NSTABook',\n",
       " 'Hickey_3DLearning',\n",
       " 'KnowingWhatStudentKnow',\n",
       " 'NGSS_PhysicalScience',\n",
       " 'Pellogrino_TrasferableKnowledge',\n",
       " 'ScientificModeling_Mayer',\n",
       " 'SystemsforStateScienceAssessment',\n",
       " 'Unpacking',\n",
       " 'UnpackingCCC',\n",
       " 'UnpackingSEP',\n",
       " 'UnpackingSEP_Examples',\n",
       " 'UsableKnowledge_Assessment'}"
      ]
     },
     "execution_count": 94,
     "metadata": {},
     "output_type": "execute_result"
    }
   ],
   "execution_count": 94
  },
  {
   "metadata": {
    "ExecuteTime": {
     "end_time": "2025-04-03T03:53:49.796056Z",
     "start_time": "2025-04-03T03:53:49.791171Z"
    }
   },
   "cell_type": "code",
   "source": [
    "new_dict = {\n",
    "    'metadata' : [],\n",
    "    'ids' : [],\n",
    "    'embeddings' : [],\n",
    "    'documents' : []\n",
    "}\n",
    "\n",
    "pdf_key_1 = query_params['pdf_name'] is not None or query_params['pdf_name'] != 'All'\n",
    "collection_key_1 = query_params['document_collection_name'] is not None or query_params['document_collection_name'] != 'All'\n",
    "\n",
    "\n",
    "for i in range(len(vector_dict['ids'])):\n",
    "    metadata = vector_dict['metadata'][i]\n",
    "\n",
    "    pdf_key_2 = not pdf_key_1 or metadata['pdf_name'] == query_params['pdf_name']\n",
    "    collection_key_2 = not collection_key_1 or metadata['document_collection_name'] == query_params['document_collection_name']\n",
    "\n",
    "    if pdf_key_2 and collection_key_2 :\n",
    "        new_dict['metadata'].append(vector_dict['metadata'][i])\n",
    "        new_dict['ids'].append(vector_dict['ids'][i])\n",
    "        new_dict['embeddings'].append(vector_dict['embeddings'][i])\n",
    "        new_dict['documents'].append(vector_dict['documents'][i])\n"
   ],
   "id": "b94d723c5901a8d5",
   "outputs": [],
   "execution_count": 107
  },
  {
   "metadata": {
    "ExecuteTime": {
     "end_time": "2025-04-03T03:49:04.429735Z",
     "start_time": "2025-04-03T03:49:04.424929Z"
    }
   },
   "cell_type": "code",
   "source": "query_params",
   "id": "cebd99d61ba91d2a",
   "outputs": [
    {
     "data": {
      "text/plain": [
       "{'query_embeddings': array([[-0.00547445, -0.03982355, -0.00091198, ..., -0.0407291 ,\n",
       "         -0.00157571,  0.00651377]]),\n",
       " 'pdf_name': 'Unpacking',\n",
       " 'document_collection_name': 'Middle and High School Chemistry',\n",
       " 'diversity': 1,\n",
       " 'top_n': 3}"
      ]
     },
     "execution_count": 99,
     "metadata": {},
     "output_type": "execute_result"
    }
   ],
   "execution_count": 99
  },
  {
   "metadata": {
    "ExecuteTime": {
     "end_time": "2025-04-03T03:53:53.168421Z",
     "start_time": "2025-04-03T03:53:53.165244Z"
    }
   },
   "cell_type": "code",
   "source": "new_dict['ids']",
   "id": "e73155b08f8f3ce4",
   "outputs": [
    {
     "data": {
      "text/plain": [
       "[0, 1, 2, 3, 4]"
      ]
     },
     "execution_count": 108,
     "metadata": {},
     "output_type": "execute_result"
    }
   ],
   "execution_count": 108
  },
  {
   "metadata": {},
   "cell_type": "code",
   "outputs": [],
   "execution_count": null,
   "source": "",
   "id": "a1f0c893e98d6dcd"
  }
 ],
 "metadata": {
  "kernelspec": {
   "display_name": "Python 3",
   "language": "python",
   "name": "python3"
  },
  "language_info": {
   "codemirror_mode": {
    "name": "ipython",
    "version": 2
   },
   "file_extension": ".py",
   "mimetype": "text/x-python",
   "name": "python",
   "nbconvert_exporter": "python",
   "pygments_lexer": "ipython2",
   "version": "2.7.6"
  }
 },
 "nbformat": 4,
 "nbformat_minor": 5
}
