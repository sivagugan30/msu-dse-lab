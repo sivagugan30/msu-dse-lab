{
 "cells": [
  {
   "cell_type": "code",
   "id": "initial_id",
   "metadata": {
    "collapsed": true,
    "ExecuteTime": {
     "end_time": "2025-04-03T04:45:40.336352Z",
     "start_time": "2025-04-03T04:45:40.333977Z"
    }
   },
   "source": [
    "from nbformat.v2 import new_metadata\n",
    "\n",
    "import default.custom_functions as cf\n",
    "import os\n",
    "import numpy as np\n",
    "\n",
    "import sklearn\n",
    "from sklearn.metrics.pairwise import cosine_similarity"
   ],
   "outputs": [],
   "execution_count": 141
  },
  {
   "metadata": {
    "ExecuteTime": {
     "end_time": "2025-04-03T01:57:42.965476Z",
     "start_time": "2025-04-03T01:57:42.955252Z"
    }
   },
   "cell_type": "code",
   "source": [
    "from dotenv import load_dotenv\n",
    "load_dotenv()"
   ],
   "id": "ac29d35d72aceee3",
   "outputs": [
    {
     "data": {
      "text/plain": [
       "True"
      ]
     },
     "execution_count": 21,
     "metadata": {},
     "output_type": "execute_result"
    }
   ],
   "execution_count": 21
  },
  {
   "metadata": {
    "ExecuteTime": {
     "end_time": "2025-04-03T01:51:41.930363Z",
     "start_time": "2025-04-03T01:51:41.927754Z"
    }
   },
   "cell_type": "code",
   "source": [
    "os.chdir(\"/Users/sivaguganjayachandran/PycharmProjects/msu-dse-lab\")\n",
    "\n",
    "json_files = ['json/Middle and High School_Chemistry/' + f for f in os.listdir('json/Middle and High School_Chemistry') if f.endswith('.json')]\n"
   ],
   "id": "34ec06faea54def9",
   "outputs": [],
   "execution_count": 14
  },
  {
   "metadata": {
    "ExecuteTime": {
     "end_time": "2025-04-03T01:56:07.431244Z",
     "start_time": "2025-04-03T01:56:06.705625Z"
    }
   },
   "cell_type": "code",
   "source": [
    "vector_dict = cf.load_json_files(json_files)\n",
    "#vector_dict"
   ],
   "id": "a3698c39d5d158cb",
   "outputs": [],
   "execution_count": 18
  },
  {
   "metadata": {
    "ExecuteTime": {
     "end_time": "2025-04-03T01:58:41.079747Z",
     "start_time": "2025-04-03T01:58:40.813280Z"
    }
   },
   "cell_type": "code",
   "source": [
    "query_embeddings = cf.generate_query_embeddings('kjasbcoan c')\n",
    "query_embeddings.shape"
   ],
   "id": "b5838292df096f74",
   "outputs": [
    {
     "data": {
      "text/plain": [
       "(1, 1536)"
      ]
     },
     "execution_count": 24,
     "metadata": {},
     "output_type": "execute_result"
    }
   ],
   "execution_count": 24
  },
  {
   "metadata": {
    "ExecuteTime": {
     "end_time": "2025-04-03T02:13:49.425295Z",
     "start_time": "2025-04-03T02:13:49.421639Z"
    }
   },
   "cell_type": "code",
   "source": "vector_dict[\"metadata\"][0]",
   "id": "da3ccf32998e411",
   "outputs": [
    {
     "data": {
      "text/plain": [
       "{'pdf_name': 'Unpacking',\n",
       " 'document_collection_name': 'Middle and High School Chemistry'}"
      ]
     },
     "execution_count": 45,
     "metadata": {},
     "output_type": "execute_result"
    }
   ],
   "execution_count": 45
  },
  {
   "metadata": {
    "ExecuteTime": {
     "end_time": "2025-04-03T03:53:41.670408Z",
     "start_time": "2025-04-03T03:53:41.063045Z"
    }
   },
   "cell_type": "code",
   "source": [
    "user_query = 'what is chemistry?'\n",
    "\n",
    "selected_document = 'ScientificModeling_Mayer'\n",
    "selected_collection = 'Middle and High School Chemistry'\n",
    "diversity = 1\n",
    "top_n = 3\n",
    "\n",
    "query_params = {\n",
    "    \"query_embeddings\" : cf.generate_query_embeddings(user_query),\n",
    "    \"pdf_name\": selected_document,\n",
    "    \"document_collection_name\": selected_collection,\n",
    "    \"diversity\": diversity,\n",
    "    \"top_n\": top_n\n",
    "}"
   ],
   "id": "2640600aed0f59a9",
   "outputs": [],
   "execution_count": 106
  },
  {
   "metadata": {},
   "cell_type": "code",
   "outputs": [],
   "execution_count": null,
   "source": [
    "def query_vector_dict( vector_dict, query_params ):\n",
    "\n",
    "    ids = vector_dict[\"ids\"]\n",
    "    documents = vector_dict[\"documents\"]\n",
    "    metadata = vector_dict[\"metadata\"]\n",
    "    embeddings = vector_dict[\"embeddings\"]\n",
    "\n",
    "    # Function to filter metadata or documents based on where conditions\n",
    "    def apply_filter(data, filter_condition):\n",
    "        if filter_condition is None:\n",
    "            return data\n",
    "        filtered_data = []\n",
    "        for item in data:\n",
    "            if all(item.get(key) == value for key, value in filter_condition.items()):\n",
    "                filtered_data.append(item)\n",
    "        return filtered_data\n",
    "\n",
    "    # Apply the `where` and `where_document` filters\n",
    "    if where:\n",
    "        metadata = apply_filter(metadata, where)\n",
    "    if where_document:\n",
    "        documents = apply_filter(documents, where_document)\n",
    "\n",
    "    # Ensure we also filter embeddings and ids based on the metadata or documents filter\n",
    "    # We need to ensure the filtered metadata is indexed correctly\n",
    "    filtered_metadata = [metadata[i] for i in range(len(metadata)) if metadata[i] in metadata]\n",
    "    filtered_ids = [ids[i] for i in range(len(ids)) if metadata[i] in filtered_metadata]\n",
    "    filtered_documents = [documents[i] for i in range(len(documents)) if metadata[i] in filtered_metadata]\n",
    "    filtered_embeddings = [embeddings[i] for i in range(len(embeddings)) if metadata[i] in filtered_metadata]\n",
    "\n",
    "    # Calculate the cosine similarity for query_embeddings or query_texts\n",
    "    if query_embeddings is not None:\n",
    "        similarities = cosine_similarity(query_embeddings, filtered_embeddings)\n",
    "    elif query_texts is not None:\n",
    "        # Generate embeddings for the query_texts\n",
    "        query_embeddings = generate_embeddings(query_texts)\n",
    "        similarities = cosine_similarity(query_embeddings, filtered_embeddings)\n",
    "    else:\n",
    "        raise ValueError(\"Either query_embeddings or query_texts must be provided.\")\n",
    "\n",
    "    # Get the closest neighbors (sorted by descending similarity)\n",
    "    closest_indices = np.argsort(similarities, axis=1)[:, ::-1][:, :n_results]\n",
    "\n",
    "    # Prepare the results\n",
    "    results = {\n",
    "        \"ids\": [filtered_ids[i] for i in closest_indices.flatten()],\n",
    "        \"documents\": [filtered_documents[i] for i in closest_indices.flatten()],\n",
    "        \"metadata\": [filtered_metadata[i] for i in closest_indices.flatten()],\n",
    "        \"distances\": [similarities[0, i] for i in closest_indices.flatten()]\n",
    "    }\n",
    "\n",
    "    # Include only the specified fields\n",
    "    filtered_results = {}\n",
    "    if \"embeddings\" in include:\n",
    "        filtered_results[\"embeddings\"] = [filtered_embeddings[i] for i in closest_indices.flatten()]\n",
    "    if \"metadatas\" in include:\n",
    "        filtered_results[\"metadata\"] = [filtered_metadata[i] for i in closest_indices.flatten()]\n",
    "    if \"documents\" in include:\n",
    "        filtered_results[\"documents\"] = [filtered_documents[i] for i in closest_indices.flatten()]\n",
    "    if \"distances\" in include:\n",
    "        filtered_results[\"distances\"] = [similarities[0, i] for i in closest_indices.flatten()]\n",
    "\n",
    "    return filtered_results"
   ],
   "id": "c1b8b8a3285daef0"
  },
  {
   "metadata": {
    "ExecuteTime": {
     "end_time": "2025-04-03T02:16:03.361901Z",
     "start_time": "2025-04-03T02:16:03.358522Z"
    }
   },
   "cell_type": "code",
   "source": [
    "def print_dict_outline(d, indent=0):\n",
    "    for key, value in d.items():\n",
    "        print(\"  \" * indent + str(key))  # Indent for hierarchy\n",
    "        if isinstance(value, dict):  # If value is a dict, go deeper\n",
    "            print_dict_outline(value, indent + 1)\n",
    "\n",
    "print_dict_outline(vector_dict)"
   ],
   "id": "50b5d8f87e025a4b",
   "outputs": [
    {
     "name": "stdout",
     "output_type": "stream",
     "text": [
      "ids\n",
      "documents\n",
      "metadata\n",
      "embeddings\n"
     ]
    }
   ],
   "execution_count": 46
  },
  {
   "metadata": {
    "ExecuteTime": {
     "end_time": "2025-04-03T02:54:21.102481Z",
     "start_time": "2025-04-03T02:54:21.099262Z"
    }
   },
   "cell_type": "code",
   "source": "vector_dict.keys()",
   "id": "e54dcfbe62a09801",
   "outputs": [
    {
     "data": {
      "text/plain": [
       "dict_keys(['ids', 'documents', 'metadata', 'embeddings'])"
      ]
     },
     "execution_count": 77,
     "metadata": {},
     "output_type": "execute_result"
    }
   ],
   "execution_count": 77
  },
  {
   "metadata": {
    "ExecuteTime": {
     "end_time": "2025-04-03T02:47:18.185338Z",
     "start_time": "2025-04-03T02:47:18.183609Z"
    }
   },
   "cell_type": "code",
   "source": "",
   "id": "ed62e5ac32f6bf96",
   "outputs": [],
   "execution_count": null
  },
  {
   "metadata": {
    "ExecuteTime": {
     "end_time": "2025-04-03T02:49:01.271148Z",
     "start_time": "2025-04-03T02:49:01.268669Z"
    }
   },
   "cell_type": "code",
   "source": "vector_dict.keys()",
   "id": "fb25b3c910bf9ce8",
   "outputs": [
    {
     "data": {
      "text/plain": [
       "dict_keys(['ids', 'documents', 'metadata', 'embeddings'])"
      ]
     },
     "execution_count": 69,
     "metadata": {},
     "output_type": "execute_result"
    }
   ],
   "execution_count": 69
  },
  {
   "metadata": {
    "ExecuteTime": {
     "end_time": "2025-04-03T02:57:24.058510Z",
     "start_time": "2025-04-03T02:57:24.051966Z"
    }
   },
   "cell_type": "code",
   "source": [
    "new_dict = {\n",
    "    'metadata' : [],\n",
    "    'ids' : [],\n",
    "    'embeddings' : [],\n",
    "    'documents' : []\n",
    "}\n",
    "\n",
    "if query_params['document_collection_name'] is not None or query_params['document_collection_name'] != 'All':\n",
    "\n",
    "    for i in range(len(vector_dict['ids'])) :\n",
    "\n",
    "        if vector_dict['metadata'][i]['document_collection_name'] == query_params['document_collection_name'] :\n",
    "            new_dict['metadata'].append(vector_dict['metadata'][i])\n",
    "            new_dict['ids'].append(vector_dict['ids'][i])\n",
    "            new_dict['embeddings'].append(vector_dict['embeddings'][i])\n",
    "            new_dict['documents'].append(vector_dict['documents'][i])\n"
   ],
   "id": "61d9ebbfb9666910",
   "outputs": [],
   "execution_count": 85
  },
  {
   "metadata": {
    "ExecuteTime": {
     "end_time": "2025-04-03T03:12:26.178438Z",
     "start_time": "2025-04-03T03:12:26.175122Z"
    }
   },
   "cell_type": "code",
   "source": [
    "\n",
    "\n",
    "if query_params['pdf_name'] is not None or query_params['pdf_name'] != 'All':\n",
    "\n",
    "    for i in range(len(vector_dict['ids'])) :\n",
    "\n",
    "        if vector_dict['metadata'][i]['pdf_name'] == query_params['pdf_name'] :\n",
    "            new_dict['metadata'].append(vector_dict['metadata'][i])\n",
    "            new_dict['ids'].append(vector_dict['ids'][i])\n",
    "            new_dict['embeddings'].append(vector_dict['embeddings'][i])\n",
    "            new_dict['documents'].append(vector_dict['documents'][i])\n",
    "\n",
    "if query_params['pdf_name'] is not None or query_params['pdf_name'] != 'All' and query_params['document_collection_name'] is not None or query_params['document_collection_name'] != 'All':\n",
    "\n",
    "    for i in range(len(vector_dict['ids'])) :\n",
    "\n",
    "        if vector_dict['metadata'][i]['pdf_name'] == query_params['pdf_name'] and vector_dict['metadata'][i]['document_collection_name'] == query_params['document_collection_name'] :\n",
    "            new_dict['metadata'].append(vector_dict['metadata'][i])\n",
    "            new_dict['ids'].append(vector_dict['ids'][i])\n",
    "            new_dict['embeddings'].append(vector_dict['embeddings'][i])\n",
    "            new_dict['documents'].append(vector_dict['documents'][i])"
   ],
   "id": "d4456e25cfd1b5f0",
   "outputs": [
    {
     "data": {
      "text/plain": [
       "dict_keys(['metadata', 'ids', 'embeddings', 'documents'])"
      ]
     },
     "execution_count": 91,
     "metadata": {},
     "output_type": "execute_result"
    }
   ],
   "execution_count": 91
  },
  {
   "metadata": {
    "ExecuteTime": {
     "end_time": "2025-04-03T03:15:07.251933Z",
     "start_time": "2025-04-03T03:15:07.246353Z"
    }
   },
   "cell_type": "code",
   "source": [
    "list = []\n",
    "for i in range(len(new_dict['metadata'])) :\n",
    "    list.append(new_dict['metadata'][i]['pdf_name'])\n",
    "\n",
    "list = set(list)\n",
    "list"
   ],
   "id": "eca474d25fb7c74d",
   "outputs": [
    {
     "data": {
      "text/plain": [
       "{'AssessModel',\n",
       " 'DeBarger etal Constructing Assessment Item',\n",
       " 'DesignPrinciples_3DAssessment',\n",
       " 'DesingScientificExplanationTasks',\n",
       " 'Evaluating3DTasks',\n",
       " 'Gotwals_LP_Assessment',\n",
       " 'Harris et al_Assessment',\n",
       " 'Harris et al_NSTABook',\n",
       " 'Hickey_3DLearning',\n",
       " 'KnowingWhatStudentKnow',\n",
       " 'NGSS_PhysicalScience',\n",
       " 'Pellogrino_TrasferableKnowledge',\n",
       " 'ScientificModeling_Mayer',\n",
       " 'SystemsforStateScienceAssessment',\n",
       " 'Unpacking',\n",
       " 'UnpackingCCC',\n",
       " 'UnpackingSEP',\n",
       " 'UnpackingSEP_Examples',\n",
       " 'UsableKnowledge_Assessment'}"
      ]
     },
     "execution_count": 94,
     "metadata": {},
     "output_type": "execute_result"
    }
   ],
   "execution_count": 94
  },
  {
   "metadata": {
    "ExecuteTime": {
     "end_time": "2025-04-03T03:53:49.796056Z",
     "start_time": "2025-04-03T03:53:49.791171Z"
    }
   },
   "cell_type": "code",
   "source": [
    "new_dict = {\n",
    "    'metadata' : [],\n",
    "    'ids' : [],\n",
    "    'embeddings' : [],\n",
    "    'documents' : []\n",
    "}\n",
    "\n",
    "pdf_key_1 = query_params['pdf_name'] is not None\n",
    "collection_key_1 = query_params['document_collection_name'] is not None\n",
    "\n",
    "\n",
    "for i in range(len(vector_dict['ids'])):\n",
    "    metadata = vector_dict['metadata'][i]\n",
    "\n",
    "    pdf_key_2 = not pdf_key_1 or metadata['pdf_name'] == query_params['pdf_name']\n",
    "    collection_key_2 = not collection_key_1 or metadata['document_collection_name'] == query_params['document_collection_name']\n",
    "\n",
    "    if pdf_key_2 and collection_key_2 :\n",
    "        new_dict['metadata'].append(vector_dict['metadata'][i])\n",
    "        new_dict['ids'].append(vector_dict['ids'][i])\n",
    "        new_dict['embeddings'].append(vector_dict['embeddings'][i])\n",
    "        new_dict['documents'].append(vector_dict['documents'][i])\n"
   ],
   "id": "b94d723c5901a8d5",
   "outputs": [],
   "execution_count": 107
  },
  {
   "metadata": {
    "ExecuteTime": {
     "end_time": "2025-04-03T03:49:04.429735Z",
     "start_time": "2025-04-03T03:49:04.424929Z"
    }
   },
   "cell_type": "code",
   "source": "query_params",
   "id": "cebd99d61ba91d2a",
   "outputs": [
    {
     "data": {
      "text/plain": [
       "{'query_embeddings': array([[-0.00547445, -0.03982355, -0.00091198, ..., -0.0407291 ,\n",
       "         -0.00157571,  0.00651377]]),\n",
       " 'pdf_name': 'Unpacking',\n",
       " 'document_collection_name': 'Middle and High School Chemistry',\n",
       " 'diversity': 1,\n",
       " 'top_n': 3}"
      ]
     },
     "execution_count": 99,
     "metadata": {},
     "output_type": "execute_result"
    }
   ],
   "execution_count": 99
  },
  {
   "metadata": {
    "ExecuteTime": {
     "end_time": "2025-04-03T03:53:53.168421Z",
     "start_time": "2025-04-03T03:53:53.165244Z"
    }
   },
   "cell_type": "code",
   "source": "new_dict['ids']",
   "id": "e73155b08f8f3ce4",
   "outputs": [
    {
     "data": {
      "text/plain": [
       "[0, 1, 2, 3, 4]"
      ]
     },
     "execution_count": 108,
     "metadata": {},
     "output_type": "execute_result"
    }
   ],
   "execution_count": 108
  },
  {
   "metadata": {
    "ExecuteTime": {
     "end_time": "2025-04-03T05:30:25.794514Z",
     "start_time": "2025-04-03T05:30:25.790146Z"
    }
   },
   "cell_type": "code",
   "source": [
    "def query_vector_dict(vector_dict, query_params):\n",
    "\n",
    "    new_dict = {\n",
    "        'metadata' : [],\n",
    "        'ids' : [],\n",
    "        'embeddings' : [],\n",
    "        'documents' : []\n",
    "    }\n",
    "\n",
    "    pdf_key_1 = query_params['pdf_name'] is not None\n",
    "    collection_key_1 = query_params['document_collection_name'] is not None\n",
    "\n",
    "    #filter knowledge base basis user parameters\n",
    "    for i in range(len(vector_dict['ids'])):\n",
    "        metadata = vector_dict['metadata'][i]\n",
    "\n",
    "        pdf_key_2 = not pdf_key_1 or metadata['pdf_name'] == query_params['pdf_name']\n",
    "        collection_key_2 = not collection_key_1 or metadata['document_collection_name'] == query_params['document_collection_name']\n",
    "\n",
    "        if pdf_key_2 and collection_key_2 :\n",
    "            new_dict['metadata'].append(vector_dict['metadata'][i])\n",
    "            new_dict['ids'].append(vector_dict['ids'][i])\n",
    "            new_dict['embeddings'].append(vector_dict['embeddings'][i])\n",
    "            new_dict['documents'].append(vector_dict['documents'][i])\n",
    "\n",
    "\n",
    "    #calculate similarity score and MMR(maximal marginal relevance) to fetch top_n documents\n",
    "    l = query_params['diversity'] #lambda\n",
    "\n",
    "    if query_params['top_n'] <= len(new_dict['ids']):\n",
    "        top_n = query_params['top_n']\n",
    "    else:\n",
    "        top_n = len(new_dict['ids'])\n",
    "\n",
    "    similarities = cosine_similarity(query_params['query_embeddings'], new_dict['embeddings'])\n",
    "    mmr = l * similarities - (1 - l) * similarities.max(axis=1, keepdims=True)\n",
    "\n",
    "    indices = np.argsort(mmr)[:,::-1][:,:top_n]\n",
    "\n",
    "    final_dict = {\n",
    "        'metadata' : [],\n",
    "        'ids' : [],\n",
    "        #'embeddings' : [],\n",
    "        'documents' : []\n",
    "    }\n",
    "\n",
    "    #create final doct basis relevant and diverse indices\n",
    "    for i in indices[0]:\n",
    "        final_dict['metadata'].append(new_dict['metadata'][i])\n",
    "        final_dict['ids'].append(new_dict['ids'][i])\n",
    "        #final_dict['embeddings'].append(new_dict['embeddings'][i])\n",
    "        final_dict['documents'].append(new_dict['documents'][i])\n",
    "\n",
    "    return final_dict"
   ],
   "id": "a1f0c893e98d6dcd",
   "outputs": [],
   "execution_count": 269
  },
  {
   "metadata": {
    "ExecuteTime": {
     "end_time": "2025-04-03T05:30:26.919859Z",
     "start_time": "2025-04-03T05:30:26.589854Z"
    }
   },
   "cell_type": "code",
   "source": [
    "user_query = 'what is chemistry?'\n",
    "\n",
    "selected_document = None\n",
    "selected_collection = 'Middle and High School Chemistry'\n",
    "diversity = 0.5\n",
    "top_n = 2\n",
    "\n",
    "query_params = {\n",
    "    \"query_embeddings\" : cf.generate_query_embeddings(user_query),\n",
    "    \"pdf_name\": selected_document,\n",
    "    \"document_collection_name\": selected_collection,\n",
    "    \"diversity\": diversity,\n",
    "    \"top_n\": top_n\n",
    "}"
   ],
   "id": "8d29f4e37317784d",
   "outputs": [],
   "execution_count": 270
  },
  {
   "metadata": {
    "ExecuteTime": {
     "end_time": "2025-04-03T05:30:28.317914Z",
     "start_time": "2025-04-03T05:30:28.300576Z"
    }
   },
   "cell_type": "code",
   "source": "result = query_vector_dict(vector_dict, query_params)",
   "id": "3e72a7673379808f",
   "outputs": [],
   "execution_count": 271
  },
  {
   "metadata": {
    "ExecuteTime": {
     "end_time": "2025-04-03T05:30:29.630017Z",
     "start_time": "2025-04-03T05:30:29.625659Z"
    }
   },
   "cell_type": "code",
   "source": "result",
   "id": "2864621cceafbb94",
   "outputs": [
    {
     "data": {
      "text/plain": [
       "{'metadata': [{'pdf_name': 'UsableKnowledge_Assessment',\n",
       "   'document_collection_name': 'Middle and High School Chemistry'},\n",
       "  {'pdf_name': 'UsableKnowledge_Assessment',\n",
       "   'document_collection_name': 'Middle and High School Chemistry'}],\n",
       " 'ids': [6, 9],\n",
       " 'documents': ['Usable Assessments7As a first step in our design process, we began with national standards to identify keymiddle school chemistry ideas.  Once we identified the relevant content standards, we unpackedthese relatively succinct statements to clarify the science behind them.  For the first four-weeksegment of the unit, we focused on the concepts of substance, property, and chemical reaction.These concepts are articulated in a national content standard about substances and properties(NRC, 1996, p. 154) and a national content standard about chemical reactions (AAAS, 1990,p.47) (see Table 1).Table 1From National Standard to Learning PerformanceStandardClarifying the StandardLearning PerformanceLP1 – Students identify substances and describe substances as beingmade of the same material throughout.LP2 – Students identify properties and describe that properties areunique characteristics that help identify a substance and distinguishone substance from another. These properties do not changeregardless of the amount of the substance.LP3 – Students design an investigation to determine whether twoobjects are the same substance. They formulate questions orpredictions, identify variables, control variables, and communicatescientific procedures.LP4 – Students conduct a scientific investigation to gather data aboutproperties of substances, such as color, hardness, density, meltingpoint, and solubility.LP5 – Students analyze and interpret data about properties to identifysubstances and distinguish one substance from another.\\nA substance hascharacteristicproperties, such asdensity, a boilingpoint, and solubility,all of which areindependent of theamount of the sample(NRC, 1996, p. 154).\\nA substance is made of one materialthroughout. Substances have distinctproperties that can be used todistinguish and separate onesubstance from another. Propertiessuch as density, melting point, andsolubility describe the uniquecharacteristics of substances. Theproperties of a substance do notchange regardless of the amount ofthe substance. Density is the ratio ofmass per unit volume. Melting pointis the temperature at which a solidchanges to a liquid. Solubility is thecapacity of a solid to dissolve in aliquid. LP 6 – Students construct scientific explanations stating a claimwhether two items are the same substance or different substances,evidence in the form of properties, and reasoning that differentsubstances have different properties.LP7 – Students identify processes (chemical reaction, phase change,mixing) and describe that a chemical reaction is a process in whichold substances interact to form new substances with differentproperties than the old substances.LP8 – Students design an investigation to determine whatcombination of substances causes a chemical reaction.  Theyformulate questions or predictions, identify variables, controlvariables, and communicate scientific procedures.LP9 – Students conduct a scientific investigation to gather data aboutproperties before and after a process (chemical reaction, phase change,mixture).LP10 – Students analyze and interpret data for properties before andafter a process to identify what type of process occurred (chemicalreaction, phase change, mixing).\\nWhen substancesinteract to form newsubstances, theelements composingthem combine in newways.  In suchrecombinations, theproperties of the newcombinations may bevery different fromthose of the old(AAAS, 1990, p. 47).\\nSubstances have distinct propertiesand are made of one materialthroughout. A chemical reaction is aprocess where new substances aremade from old substances.  One typeof chemical reaction is when twosubstances are mixed together andthey interact to form newsubstance(s). The properties of thenew substance(s) are different fromthe old substance(s). When scientiststalk about “old” substances thatinteract in the chemical reaction, theycall them reactants.  When scientiststalk about new substances that areproduced by the chemical reaction,they call them products.\\nLP11 – Students construct scientific explanations stating a claim forwhether a chemical reaction occurred, evidence in the form ofproperties, and reasoning that a chemical reaction is a process inwhich old substances interact to form new substances with differentproperties than the old substances.',\n",
       "  'Usable Assessments10alignment with important science content and inquiry standards. The tasks provide multiple waysfor students to engage in the science content and demonstrate knowing.As a way of contextualizing the content in real world student experiences, we organizedthe learning tasks into a series of lessons that are linked together by a driving question. This wasthe fifth step in our design process. A driving question is a rich and open-ended question thatuses everyday language to connect with students’ authentic interests and curiosities about theworld (Krajcik, Berger, & Czerniak, 2002). The driving question is carefully crafted as thecentral organizing feature that drives students’ investigations. The driving question of thechemistry unit, “How can I make new stuff from old stuff?” addresses how new substances canbe made from old substances. Specifically, students investigate how soap can be made from lardand sodium hydroxide. During the unit, students complete a number of  investigations, each timecycling back to the driving question. The investigations allow them to experience scientificphenomena and processes by describing observations, designing and conducting experiments,gathering and analyzing data, and explaining scientific ideas that are instrumental tounderstanding important science content. Each cycle helps students delve deeper into the sciencecontent to initially understand substances, then properties, and finally substances interacting toform new substances (i.e. chemical reactions).Explanation as a Way of KnowingTo illustrate how we employed our rubrics, we focus on one central way of knowing,explanation. Explanation is both a process in scientific inquiry and an important scientificpractice, emphasized in the National Science Education Standards (NRC, 1996). A significantbody of research treats explanation as a process of coordinating evidence and theory, andinvestigates how the use of explanation can provide students with opportunities to developcompetency in this scientific practice (Driver, Newton, & Osborne, 2000; Kuhn, 1993; Sandoval,']}"
      ]
     },
     "execution_count": 272,
     "metadata": {},
     "output_type": "execute_result"
    }
   ],
   "execution_count": 272
  },
  {
   "metadata": {
    "ExecuteTime": {
     "end_time": "2025-04-03T05:30:31.411158Z",
     "start_time": "2025-04-03T05:30:31.408037Z"
    }
   },
   "cell_type": "code",
   "source": "vector_dict['metadata'][0]",
   "id": "849da720cc963d51",
   "outputs": [
    {
     "data": {
      "text/plain": [
       "{'pdf_name': 'Unpacking',\n",
       " 'document_collection_name': 'Middle and High School Chemistry'}"
      ]
     },
     "execution_count": 273,
     "metadata": {},
     "output_type": "execute_result"
    }
   ],
   "execution_count": 273
  },
  {
   "metadata": {
    "ExecuteTime": {
     "end_time": "2025-04-03T05:23:54.094440Z",
     "start_time": "2025-04-03T05:23:54.092666Z"
    }
   },
   "cell_type": "code",
   "source": "",
   "id": "63b5ec56baecdbb3",
   "outputs": [],
   "execution_count": null
  },
  {
   "metadata": {
    "ExecuteTime": {
     "end_time": "2025-04-03T06:06:02.716370Z",
     "start_time": "2025-04-03T06:06:02.713072Z"
    }
   },
   "cell_type": "code",
   "source": [
    "def get_dict_list(vector_dict):\n",
    "    result_dict = {}\n",
    "\n",
    "    for metadata in vector_dict['metadata']:\n",
    "        collection_name = metadata['document_collection_name']\n",
    "        pdf_name = metadata['pdf_name']\n",
    "\n",
    "        if collection_name not in result_dict:\n",
    "            result_dict[collection_name] = []\n",
    "\n",
    "        if pdf_name not in result_dict[collection_name]:\n",
    "            result_dict[collection_name].append(pdf_name)\n",
    "\n",
    "    return result_dict"
   ],
   "id": "4b49c89718836585",
   "outputs": [],
   "execution_count": 278
  },
  {
   "metadata": {
    "ExecuteTime": {
     "end_time": "2025-04-03T06:06:59.761001Z",
     "start_time": "2025-04-03T06:06:59.757940Z"
    }
   },
   "cell_type": "code",
   "source": "doc_list = get_dict_list(vector_dict)",
   "id": "7d3742deed008eef",
   "outputs": [],
   "execution_count": 281
  },
  {
   "metadata": {
    "ExecuteTime": {
     "end_time": "2025-04-03T06:07:56.702276Z",
     "start_time": "2025-04-03T06:07:56.699055Z"
    }
   },
   "cell_type": "code",
   "source": "[*doc_list.keys()]",
   "id": "adff476fd2e4d73f",
   "outputs": [
    {
     "data": {
      "text/plain": [
       "['Middle and High School Chemistry']"
      ]
     },
     "execution_count": 288,
     "metadata": {},
     "output_type": "execute_result"
    }
   ],
   "execution_count": 288
  },
  {
   "metadata": {
    "ExecuteTime": {
     "end_time": "2025-04-03T05:58:36.325316Z",
     "start_time": "2025-04-03T05:58:36.321666Z"
    }
   },
   "cell_type": "code",
   "source": "b",
   "id": "5f442436ceedb469",
   "outputs": [
    {
     "data": {
      "text/plain": [
       "{'Middle and High School Chemistry'}"
      ]
     },
     "execution_count": 277,
     "metadata": {},
     "output_type": "execute_result"
    }
   ],
   "execution_count": 277
  },
  {
   "metadata": {
    "ExecuteTime": {
     "end_time": "2025-04-03T05:13:40.752678Z",
     "start_time": "2025-04-03T05:13:40.751127Z"
    }
   },
   "cell_type": "code",
   "source": "",
   "id": "4314529db6535700",
   "outputs": [],
   "execution_count": null
  },
  {
   "metadata": {
    "ExecuteTime": {
     "end_time": "2025-04-03T05:13:41.872727Z",
     "start_time": "2025-04-03T05:13:41.871045Z"
    }
   },
   "cell_type": "code",
   "source": "",
   "id": "91fcd801567411b7",
   "outputs": [],
   "execution_count": null
  },
  {
   "metadata": {
    "ExecuteTime": {
     "end_time": "2025-04-03T05:13:42.807161Z",
     "start_time": "2025-04-03T05:13:42.805444Z"
    }
   },
   "cell_type": "code",
   "source": "",
   "id": "3a6b1b730805362d",
   "outputs": [],
   "execution_count": null
  },
  {
   "metadata": {
    "ExecuteTime": {
     "end_time": "2025-04-03T05:13:45.745014Z",
     "start_time": "2025-04-03T05:13:45.743229Z"
    }
   },
   "cell_type": "code",
   "source": "",
   "id": "cc2155abd7179a69",
   "outputs": [],
   "execution_count": null
  },
  {
   "metadata": {
    "ExecuteTime": {
     "end_time": "2025-04-03T05:13:46.732251Z",
     "start_time": "2025-04-03T05:13:46.730603Z"
    }
   },
   "cell_type": "code",
   "source": "",
   "id": "aa8db44ed821751e",
   "outputs": [],
   "execution_count": null
  },
  {
   "metadata": {
    "ExecuteTime": {
     "end_time": "2025-04-03T05:13:48.434176Z",
     "start_time": "2025-04-03T05:13:48.432565Z"
    }
   },
   "cell_type": "code",
   "source": "",
   "id": "39e8b4f599f1c12c",
   "outputs": [],
   "execution_count": null
  },
  {
   "metadata": {},
   "cell_type": "code",
   "outputs": [],
   "execution_count": null,
   "source": "",
   "id": "f7d1c9dc01493ff6"
  }
 ],
 "metadata": {
  "kernelspec": {
   "display_name": "Python 3",
   "language": "python",
   "name": "python3"
  },
  "language_info": {
   "codemirror_mode": {
    "name": "ipython",
    "version": 2
   },
   "file_extension": ".py",
   "mimetype": "text/x-python",
   "name": "python",
   "nbconvert_exporter": "python",
   "pygments_lexer": "ipython2",
   "version": "2.7.6"
  }
 },
 "nbformat": 4,
 "nbformat_minor": 5
}
