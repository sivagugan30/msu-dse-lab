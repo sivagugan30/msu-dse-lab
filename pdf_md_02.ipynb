{
 "cells": [
  {
   "cell_type": "code",
   "execution_count": 10,
   "id": "20c6cf8e-3caa-4fd2-aaac-f1f1ed475ff0",
   "metadata": {},
   "outputs": [
    {
     "name": "stdout",
     "output_type": "stream",
     "text": [
      "Found existing installation: frontend 0.0.3\n",
      "Uninstalling frontend-0.0.3:\n",
      "  Successfully uninstalled frontend-0.0.3\n",
      "Note: you may need to restart the kernel to use updated packages.\n"
     ]
    }
   ],
   "source": [
    "pip uninstall frontend -y"
   ]
  },
  {
   "cell_type": "code",
   "execution_count": 18,
   "id": "3cadf515-d4bc-4a25-8d04-ac1392b51c01",
   "metadata": {},
   "outputs": [
    {
     "name": "stderr",
     "output_type": "stream",
     "text": [
      "/var/folders/xh/yvr1g2bd7d10yql092bn6pjc0000gn/T/ipykernel_2321/3444921380.py:22: DeprecationWarning: Call to deprecated function (or staticmethod) download_loader. (`download_loader()` is deprecated. Please install tool using pip install directly instead.)\n",
      "  UnstructuredReader = download_loader(\"UnstructuredReader\")\n"
     ]
    },
    {
     "name": "stdout",
     "output_type": "stream",
     "text": [
      "Requirement already satisfied: llama-index-readers-file in /opt/anaconda3/envs/msu/lib/python3.12/site-packages (0.4.5)\n",
      "Requirement already satisfied: beautifulsoup4<5.0.0,>=4.12.3 in /opt/anaconda3/envs/msu/lib/python3.12/site-packages (from llama-index-readers-file) (4.12.3)\n",
      "Requirement already satisfied: llama-index-core<0.13.0,>=0.12.0 in /opt/anaconda3/envs/msu/lib/python3.12/site-packages (from llama-index-readers-file) (0.12.17)\n",
      "Requirement already satisfied: pandas in /opt/anaconda3/envs/msu/lib/python3.12/site-packages (from llama-index-readers-file) (2.2.2)\n",
      "Requirement already satisfied: pypdf<6.0.0,>=5.1.0 in /opt/anaconda3/envs/msu/lib/python3.12/site-packages (from llama-index-readers-file) (5.1.0)\n",
      "Requirement already satisfied: striprtf<0.0.27,>=0.0.26 in /opt/anaconda3/envs/msu/lib/python3.12/site-packages (from llama-index-readers-file) (0.0.26)\n",
      "Requirement already satisfied: soupsieve>1.2 in /opt/anaconda3/envs/msu/lib/python3.12/site-packages (from beautifulsoup4<5.0.0,>=4.12.3->llama-index-readers-file) (2.5)\n",
      "Requirement already satisfied: PyYAML>=6.0.1 in /opt/anaconda3/envs/msu/lib/python3.12/site-packages (from llama-index-core<0.13.0,>=0.12.0->llama-index-readers-file) (6.0.1)\n",
      "Requirement already satisfied: SQLAlchemy>=1.4.49 in /opt/anaconda3/envs/msu/lib/python3.12/site-packages (from SQLAlchemy[asyncio]>=1.4.49->llama-index-core<0.13.0,>=0.12.0->llama-index-readers-file) (2.0.36)\n",
      "Requirement already satisfied: aiohttp<4.0.0,>=3.8.6 in /opt/anaconda3/envs/msu/lib/python3.12/site-packages (from llama-index-core<0.13.0,>=0.12.0->llama-index-readers-file) (3.10.5)\n",
      "Requirement already satisfied: dataclasses-json in /opt/anaconda3/envs/msu/lib/python3.12/site-packages (from llama-index-core<0.13.0,>=0.12.0->llama-index-readers-file) (0.6.7)\n",
      "Requirement already satisfied: deprecated>=1.2.9.3 in /opt/anaconda3/envs/msu/lib/python3.12/site-packages (from llama-index-core<0.13.0,>=0.12.0->llama-index-readers-file) (1.2.15)\n",
      "Requirement already satisfied: dirtyjson<2.0.0,>=1.0.8 in /opt/anaconda3/envs/msu/lib/python3.12/site-packages (from llama-index-core<0.13.0,>=0.12.0->llama-index-readers-file) (1.0.8)\n",
      "Requirement already satisfied: filetype<2.0.0,>=1.2.0 in /opt/anaconda3/envs/msu/lib/python3.12/site-packages (from llama-index-core<0.13.0,>=0.12.0->llama-index-readers-file) (1.2.0)\n",
      "Requirement already satisfied: fsspec>=2023.5.0 in /opt/anaconda3/envs/msu/lib/python3.12/site-packages (from llama-index-core<0.13.0,>=0.12.0->llama-index-readers-file) (2024.9.0)\n",
      "Requirement already satisfied: httpx in /opt/anaconda3/envs/msu/lib/python3.12/site-packages (from llama-index-core<0.13.0,>=0.12.0->llama-index-readers-file) (0.27.2)\n",
      "Requirement already satisfied: nest-asyncio<2.0.0,>=1.5.8 in /opt/anaconda3/envs/msu/lib/python3.12/site-packages (from llama-index-core<0.13.0,>=0.12.0->llama-index-readers-file) (1.6.0)\n",
      "Requirement already satisfied: networkx>=3.0 in /opt/anaconda3/envs/msu/lib/python3.12/site-packages (from llama-index-core<0.13.0,>=0.12.0->llama-index-readers-file) (3.3)\n",
      "Requirement already satisfied: nltk>3.8.1 in /opt/anaconda3/envs/msu/lib/python3.12/site-packages (from llama-index-core<0.13.0,>=0.12.0->llama-index-readers-file) (3.9.1)\n",
      "Requirement already satisfied: numpy in /opt/anaconda3/envs/msu/lib/python3.12/site-packages (from llama-index-core<0.13.0,>=0.12.0->llama-index-readers-file) (1.26.4)\n",
      "Requirement already satisfied: pillow>=9.0.0 in /opt/anaconda3/envs/msu/lib/python3.12/site-packages (from llama-index-core<0.13.0,>=0.12.0->llama-index-readers-file) (10.4.0)\n",
      "Requirement already satisfied: pydantic>=2.8.0 in /opt/anaconda3/envs/msu/lib/python3.12/site-packages (from llama-index-core<0.13.0,>=0.12.0->llama-index-readers-file) (2.9.2)\n",
      "Requirement already satisfied: requests>=2.31.0 in /opt/anaconda3/envs/msu/lib/python3.12/site-packages (from llama-index-core<0.13.0,>=0.12.0->llama-index-readers-file) (2.32.3)\n",
      "Requirement already satisfied: tenacity!=8.4.0,<10.0.0,>=8.2.0 in /opt/anaconda3/envs/msu/lib/python3.12/site-packages (from llama-index-core<0.13.0,>=0.12.0->llama-index-readers-file) (9.0.0)\n",
      "Requirement already satisfied: tiktoken>=0.3.3 in /opt/anaconda3/envs/msu/lib/python3.12/site-packages (from llama-index-core<0.13.0,>=0.12.0->llama-index-readers-file) (0.8.0)\n",
      "Requirement already satisfied: tqdm<5.0.0,>=4.66.1 in /opt/anaconda3/envs/msu/lib/python3.12/site-packages (from llama-index-core<0.13.0,>=0.12.0->llama-index-readers-file) (4.66.5)\n",
      "Requirement already satisfied: typing-extensions>=4.5.0 in /opt/anaconda3/envs/msu/lib/python3.12/site-packages (from llama-index-core<0.13.0,>=0.12.0->llama-index-readers-file) (4.12.2)\n",
      "Requirement already satisfied: typing-inspect>=0.8.0 in /opt/anaconda3/envs/msu/lib/python3.12/site-packages (from llama-index-core<0.13.0,>=0.12.0->llama-index-readers-file) (0.9.0)\n",
      "Requirement already satisfied: wrapt in /opt/anaconda3/envs/msu/lib/python3.12/site-packages (from llama-index-core<0.13.0,>=0.12.0->llama-index-readers-file) (1.14.1)\n",
      "Requirement already satisfied: python-dateutil>=2.8.2 in /opt/anaconda3/envs/msu/lib/python3.12/site-packages (from pandas->llama-index-readers-file) (2.9.0.post0)\n",
      "Requirement already satisfied: pytz>=2020.1 in /opt/anaconda3/envs/msu/lib/python3.12/site-packages (from pandas->llama-index-readers-file) (2024.1)\n",
      "Requirement already satisfied: tzdata>=2022.7 in /opt/anaconda3/envs/msu/lib/python3.12/site-packages (from pandas->llama-index-readers-file) (2024.1)\n",
      "Requirement already satisfied: aiohappyeyeballs>=2.3.0 in /opt/anaconda3/envs/msu/lib/python3.12/site-packages (from aiohttp<4.0.0,>=3.8.6->llama-index-core<0.13.0,>=0.12.0->llama-index-readers-file) (2.4.0)\n",
      "Requirement already satisfied: aiosignal>=1.1.2 in /opt/anaconda3/envs/msu/lib/python3.12/site-packages (from aiohttp<4.0.0,>=3.8.6->llama-index-core<0.13.0,>=0.12.0->llama-index-readers-file) (1.3.1)\n",
      "Requirement already satisfied: attrs>=17.3.0 in /opt/anaconda3/envs/msu/lib/python3.12/site-packages (from aiohttp<4.0.0,>=3.8.6->llama-index-core<0.13.0,>=0.12.0->llama-index-readers-file) (25.1.0)\n",
      "Requirement already satisfied: frozenlist>=1.1.1 in /opt/anaconda3/envs/msu/lib/python3.12/site-packages (from aiohttp<4.0.0,>=3.8.6->llama-index-core<0.13.0,>=0.12.0->llama-index-readers-file) (1.4.1)\n",
      "Requirement already satisfied: multidict<7.0,>=4.5 in /opt/anaconda3/envs/msu/lib/python3.12/site-packages (from aiohttp<4.0.0,>=3.8.6->llama-index-core<0.13.0,>=0.12.0->llama-index-readers-file) (6.1.0)\n",
      "Requirement already satisfied: yarl<2.0,>=1.0 in /opt/anaconda3/envs/msu/lib/python3.12/site-packages (from aiohttp<4.0.0,>=3.8.6->llama-index-core<0.13.0,>=0.12.0->llama-index-readers-file) (1.11.1)\n",
      "Requirement already satisfied: click in /opt/anaconda3/envs/msu/lib/python3.12/site-packages (from nltk>3.8.1->llama-index-core<0.13.0,>=0.12.0->llama-index-readers-file) (8.1.7)\n",
      "Requirement already satisfied: joblib in /opt/anaconda3/envs/msu/lib/python3.12/site-packages (from nltk>3.8.1->llama-index-core<0.13.0,>=0.12.0->llama-index-readers-file) (1.4.2)\n",
      "Requirement already satisfied: regex>=2021.8.3 in /opt/anaconda3/envs/msu/lib/python3.12/site-packages (from nltk>3.8.1->llama-index-core<0.13.0,>=0.12.0->llama-index-readers-file) (2024.7.24)\n",
      "Requirement already satisfied: annotated-types>=0.6.0 in /opt/anaconda3/envs/msu/lib/python3.12/site-packages (from pydantic>=2.8.0->llama-index-core<0.13.0,>=0.12.0->llama-index-readers-file) (0.7.0)\n",
      "Requirement already satisfied: pydantic-core==2.23.4 in /opt/anaconda3/envs/msu/lib/python3.12/site-packages (from pydantic>=2.8.0->llama-index-core<0.13.0,>=0.12.0->llama-index-readers-file) (2.23.4)\n",
      "Requirement already satisfied: six>=1.5 in /opt/anaconda3/envs/msu/lib/python3.12/site-packages (from python-dateutil>=2.8.2->pandas->llama-index-readers-file) (1.16.0)\n",
      "Requirement already satisfied: charset-normalizer<4,>=2 in /opt/anaconda3/envs/msu/lib/python3.12/site-packages (from requests>=2.31.0->llama-index-core<0.13.0,>=0.12.0->llama-index-readers-file) (3.3.2)\n",
      "Requirement already satisfied: idna<4,>=2.5 in /opt/anaconda3/envs/msu/lib/python3.12/site-packages (from requests>=2.31.0->llama-index-core<0.13.0,>=0.12.0->llama-index-readers-file) (3.7)\n",
      "Requirement already satisfied: urllib3<3,>=1.21.1 in /opt/anaconda3/envs/msu/lib/python3.12/site-packages (from requests>=2.31.0->llama-index-core<0.13.0,>=0.12.0->llama-index-readers-file) (2.2.2)\n",
      "Requirement already satisfied: certifi>=2017.4.17 in /opt/anaconda3/envs/msu/lib/python3.12/site-packages (from requests>=2.31.0->llama-index-core<0.13.0,>=0.12.0->llama-index-readers-file) (2024.8.30)\n",
      "Requirement already satisfied: greenlet!=0.4.17 in /opt/anaconda3/envs/msu/lib/python3.12/site-packages (from SQLAlchemy[asyncio]>=1.4.49->llama-index-core<0.13.0,>=0.12.0->llama-index-readers-file) (3.1.1)\n",
      "Requirement already satisfied: mypy-extensions>=0.3.0 in /opt/anaconda3/envs/msu/lib/python3.12/site-packages (from typing-inspect>=0.8.0->llama-index-core<0.13.0,>=0.12.0->llama-index-readers-file) (1.0.0)\n",
      "Requirement already satisfied: marshmallow<4.0.0,>=3.18.0 in /opt/anaconda3/envs/msu/lib/python3.12/site-packages (from dataclasses-json->llama-index-core<0.13.0,>=0.12.0->llama-index-readers-file) (3.23.2)\n",
      "Requirement already satisfied: anyio in /opt/anaconda3/envs/msu/lib/python3.12/site-packages (from httpx->llama-index-core<0.13.0,>=0.12.0->llama-index-readers-file) (4.2.0)\n",
      "Requirement already satisfied: httpcore==1.* in /opt/anaconda3/envs/msu/lib/python3.12/site-packages (from httpx->llama-index-core<0.13.0,>=0.12.0->llama-index-readers-file) (1.0.5)\n",
      "Requirement already satisfied: sniffio in /opt/anaconda3/envs/msu/lib/python3.12/site-packages (from httpx->llama-index-core<0.13.0,>=0.12.0->llama-index-readers-file) (1.3.0)\n",
      "Requirement already satisfied: h11<0.15,>=0.13 in /opt/anaconda3/envs/msu/lib/python3.12/site-packages (from httpcore==1.*->httpx->llama-index-core<0.13.0,>=0.12.0->llama-index-readers-file) (0.14.0)\n",
      "Requirement already satisfied: packaging>=17.0 in /opt/anaconda3/envs/msu/lib/python3.12/site-packages (from marshmallow<4.0.0,>=3.18.0->dataclasses-json->llama-index-core<0.13.0,>=0.12.0->llama-index-readers-file) (24.1)\n",
      "Extraction complete. Results saved in /Users/sivaguganjayachandran/Documents/python programming/Undergraduate_Chemistry/01.\n"
     ]
    }
   ],
   "source": [
    "import os\n",
    "import pdfplumber\n",
    "import pypdfium2\n",
    "import pdfminer.high_level\n",
    "from llama_index.core.readers import download_loader\n",
    "\n",
    "# Define PDF path\n",
    "pdf_path = \"/Users/sivaguganjayachandran/Documents/python programming/Undergraduate_Chemistry/01/pdf_01.pdf\"\n",
    "\n",
    "# Verify file exists\n",
    "if not os.path.exists(pdf_path):\n",
    "    raise FileNotFoundError(\"The specified PDF file does not exist.\")\n",
    "\n",
    "# Get directory of the PDF file\n",
    "output_dir = os.path.dirname(pdf_path)\n",
    "\n",
    "# Dictionary to store extracted text\n",
    "extracted_text = {}\n",
    "\n",
    "## Unstructured (Requires setup)\n",
    "try:\n",
    "    UnstructuredReader = download_loader(\"UnstructuredReader\")\n",
    "    loader = UnstructuredReader()\n",
    "    docs = loader.load_data(pdf_path)\n",
    "    extracted_text[\"Unstructured\"] = \"\\n\".join([doc.text for doc in docs])\n",
    "except Exception as e:\n",
    "    extracted_text[\"Unstructured\"] = f\"Error: {e}\"\n",
    "\n",
    "## PDFPlumber\n",
    "try:\n",
    "    with pdfplumber.open(pdf_path) as pdf:\n",
    "        text = \"\\n\".join([page.extract_text() for page in pdf.pages if page.extract_text()])\n",
    "        extracted_text[\"PDFPlumber\"] = text\n",
    "except Exception as e:\n",
    "    extracted_text[\"PDFPlumber\"] = f\"Error: {e}\"\n",
    "\n",
    "## PDFMiner\n",
    "try:\n",
    "    text = pdfminer.high_level.extract_text(pdf_path)\n",
    "    extracted_text[\"PDFMiner\"] = text\n",
    "except Exception as e:\n",
    "    extracted_text[\"PDFMiner\"] = f\"Error: {e}\"\n",
    "\n",
    "## PyPDFium2\n",
    "try:\n",
    "    pdf = pypdfium2.PdfDocument(pdf_path)\n",
    "    text = \"\\n\".join([page.get_textpage().get_text_range() for page in pdf])\n",
    "    extracted_text[\"PyPDFium2\"] = text\n",
    "except Exception as e:\n",
    "    extracted_text[\"PyPDFium2\"] = f\"Error: {e}\"\n",
    "\n",
    "# Save results to individual Markdown files\n",
    "for loader, text in extracted_text.items():\n",
    "    output_file = os.path.join(output_dir, f\"{loader}.md\")\n",
    "    with open(output_file, \"w\", encoding=\"utf-8\") as f:\n",
    "        f.write(f\"## {loader} Extraction\\n\\n{text}\\n\")\n",
    "\n",
    "print(f\"Extraction complete. Results saved in {output_dir}.\")"
   ]
  },
  {
   "cell_type": "code",
   "execution_count": 12,
   "id": "2e2471cd-4620-4ff8-9ae6-8583f0660a8d",
   "metadata": {},
   "outputs": [
    {
     "name": "stdout",
     "output_type": "stream",
     "text": [
      "Requirement already satisfied: pymupdf in /opt/anaconda3/envs/msu/lib/python3.12/site-packages (1.25.3)\n",
      "Note: you may need to restart the kernel to use updated packages.\n"
     ]
    }
   ],
   "source": [
    "pip install pymupdf"
   ]
  },
  {
   "cell_type": "code",
   "execution_count": 22,
   "id": "9a61e010-5109-4751-badf-33226e7049b8",
   "metadata": {},
   "outputs": [
    {
     "name": "stdout",
     "output_type": "stream",
     "text": [
      "['.Rhistory', 'PDFPlumber.md', 'PyPDFium2.md', 'Unstructured.md', 'PDFMiner.md', 'pdf_01.pdf']\n"
     ]
    }
   ],
   "source": [
    "path = \"/Users/sivaguganjayachandran/Documents/python programming/Undergraduate_Chemistry/01/\"\n",
    "\n",
    "print(os.listdir(path))"
   ]
  },
  {
   "cell_type": "code",
   "execution_count": 25,
   "id": "42f8973e-09e5-4abf-a059-213722d6e0c5",
   "metadata": {},
   "outputs": [
    {
     "data": {
      "text/plain": [
       "325321"
      ]
     },
     "execution_count": 25,
     "metadata": {},
     "output_type": "execute_result"
    }
   ],
   "source": []
  },
  {
   "cell_type": "code",
   "execution_count": 23,
   "id": "e169b060-7a41-4b4b-9419-3738256414d5",
   "metadata": {},
   "outputs": [],
   "source": [
    "import os\n",
    "import openai\n",
    "\n",
    "# Set your OpenAI API key\n",
    "#openai.api_key = \"123\"  # Replace with your actual API key\n",
    "\n",
    "# Define directory path\n",
    "path = \"/Users/sivaguganjayachandran/Documents/python programming/Undergraduate_Chemistry/01/\"\n",
    "\n",
    "# Identify the PDF and Markdown files\n",
    "pdf_file = os.path.join(path, \"pdf_01.pdf\")\n",
    "md_files = [f for f in os.listdir(path) if f.endswith(\".md\")]\n",
    "\n",
    "# Read the original PDF content\n",
    "with open(pdf_file, \"rb\") as f:\n",
    "    pdf_content = f.read()  # Keeping it as raw binary (GPT-4 can't read PDFs directly)\n"
   ]
  },
  {
   "cell_type": "code",
   "execution_count": 37,
   "id": "cb295c21-4183-4d5a-a90a-a32d024dec0a",
   "metadata": {},
   "outputs": [],
   "source": []
  },
  {
   "cell_type": "code",
   "execution_count": 42,
   "id": "10255935-7904-4598-9947-4b17492a5fef",
   "metadata": {},
   "outputs": [
    {
     "name": "stdout",
     "output_type": "stream",
     "text": [
      "\n",
      "### Assessment for PDFPlumber.md ###\n",
      "\n",
      "|    Category    | Score |\n",
      "| -------------- | ------ |\n",
      "| Text Accuracy | 9 |\n",
      "| Structural Preservation | 8 |\n",
      "| Content Capture | 7 |\n",
      "| Readability & Formatting | 8 |\n",
      "| Overall Quality Score | 8 |\n",
      "\n",
      "### Assessment for PyPDFium2.md ###\n",
      "\n",
      "| Category                              | Score |\n",
      "|-------------------------------------------|-------|\n",
      "| Text Accuracy                              | 9.5   |\n",
      "| Structural Preservation                | 9.5   |\n",
      "| Content Capture                         | 7     |\n",
      "| Readability & Formatting             | 9     |\n",
      "| Overall Quality Score                  | 8.75  |\n",
      "\n",
      "### Assessment for Unstructured.md ###\n",
      "\n",
      "Without having an original document to compare with and without further information about the converted Markdown, a comprehensive assessment cannot be provided. However, as a placeholder, I can provide a general insight. \n",
      "\n",
      "| Aspect | Quality Score |\n",
      "| ------ | ------------- |\n",
      "| Text Accuracy | - |\n",
      "| Structural Preservation | - |\n",
      "| Content Capture | - |\n",
      "| Readability & Formatting | - |\n",
      "| Overall Quality Score | - |\n",
      "\n",
      "Please provide more information to conduct a full assessment.\n",
      "\n",
      "### Assessment for PDFMiner.md ###\n",
      "\n",
      "| Aspect                    | Score |\n",
      "|---------------------------|-------|\n",
      "| Text Accuracy             | 8     |\n",
      "| Structural Preservation   | 7     |\n",
      "| Content Capture           | 6     |\n",
      "| Readability & Formatting  | 8     |\n",
      "| Overall Quality Score     | 7.25  |\n",
      "\n",
      "Assessment complete! Results saved to /Users/sivaguganjayachandran/Documents/python programming/Undergraduate_Chemistry/01/GPT4_PDF_Conversion_Assessment.md\n"
     ]
    }
   ],
   "source": [
    "import os\n",
    "import openai\n",
    "\n",
    "# Set up OpenAI client with API key\n",
    "client = openai.OpenAI(api_key=key)  # Replace with your actual API key\n",
    "\n",
    "# Define directory path\n",
    "path = \"/Users/sivaguganjayachandran/Documents/python programming/Undergraduate_Chemistry/01/\"\n",
    "\n",
    "# Identify the PDF and Markdown files\n",
    "pdf_file = os.path.join(path, \"pdf_01.pdf\")\n",
    "md_files = [f for f in os.listdir(path) if f.endswith(\".md\")]\n",
    "\n",
    "# Markdown file to store results\n",
    "output_md = os.path.join(path, \"GPT4_PDF_Conversion_Assessment.md\")\n",
    "\n",
    "# Set a limit on characters to avoid exceeding token limits\n",
    "MAX_CHARACTERS = 5000  # Adjust if needed\n",
    "\n",
    "# Function to read Markdown file\n",
    "def read_markdown(file_path, max_chars=MAX_CHARACTERS):\n",
    "    with open(file_path, \"r\", encoding=\"utf-8\") as f:\n",
    "        content = f.read()\n",
    "        return content[:max_chars]  # Truncate to avoid token overflow\n",
    "\n",
    "# Store all results in a list\n",
    "results = []\n",
    "\n",
    "# Iterate through each Markdown file and compare it with the original PDF\n",
    "for md_file in md_files:\n",
    "    md_content = read_markdown(os.path.join(path, md_file))\n",
    "\n",
    "    # Create a prompt for GPT-4\n",
    "    prompt = f\"\"\"\n",
    "    You are an expert in document conversion quality assessment.\n",
    "    Evaluate the quality of the Markdown file conversion.\n",
    "\n",
    "    **Key aspects to evaluate (score: 0-10 for each):**\n",
    "    1. **Text Accuracy:** How correctly is the text represented?\n",
    "    2. **Structural Preservation:** Are headings, paragraphs, lists, and indentation well-maintained?\n",
    "    3. **Content Capture:** How well are tables, formulas, and figures retained?\n",
    "    4. **Readability & Formatting:** Is the Markdown output clean, structured, and easy to read?\n",
    "    5. **Overall Quality Score:** Mean of the above four scores.\n",
    "\n",
    "    **Converted Markdown ({md_file}) (Truncated to 5000 characters):**\n",
    "    {md_content}\n",
    "\n",
    "    Please assign a quality score (0-10) for each category. please only provide a score for all markdowns in a tabular format. \n",
    "    no need for any explanation\n",
    "    \"\"\"\n",
    "\n",
    "    # Send to OpenAI API (Updated format)\n",
    "    response = client.chat.completions.create(\n",
    "        model=\"gpt-4\",\n",
    "        messages=[\n",
    "            {\"role\": \"system\", \"content\": \"You are an expert in document conversion quality assessment.\"},\n",
    "            {\"role\": \"user\", \"content\": prompt}\n",
    "        ]\n",
    "    )\n",
    "\n",
    "    # Extract response content\n",
    "    assessment = response.choices[0].message.content\n",
    "\n",
    "    # Print assessment\n",
    "    print(f\"\\n### Assessment for {md_file} ###\\n\")\n",
    "    print(assessment)\n",
    "\n",
    "    # Save to results list\n",
    "    results.append(f\"## Assessment for {md_file}\\n\\n{assessment}\\n\\n\")\n",
    "\n",
    "# Save results to a Markdown file\n",
    "with open(output_md, \"w\", encoding=\"utf-8\") as f:\n",
    "    f.writelines(results)\n",
    "\n",
    "print(f\"\\nAssessment complete! Results saved to {output_md}\")"
   ]
  },
  {
   "cell_type": "code",
   "execution_count": null,
   "id": "a72c7fc5-0663-4075-9eec-daa7a6594c4d",
   "metadata": {},
   "outputs": [],
   "source": []
  },
  {
   "cell_type": "code",
   "execution_count": null,
   "id": "5f686d9b-0286-403e-9c29-35bcdc260553",
   "metadata": {},
   "outputs": [],
   "source": []
  },
  {
   "cell_type": "code",
   "execution_count": null,
   "id": "11e6bcc4-f560-4c3c-9b52-cd784f9cdf4b",
   "metadata": {},
   "outputs": [],
   "source": []
  }
 ],
 "metadata": {
  "kernelspec": {
   "display_name": "Python 3 (ipykernel)",
   "language": "python",
   "name": "python3"
  },
  "language_info": {
   "codemirror_mode": {
    "name": "ipython",
    "version": 3
   },
   "file_extension": ".py",
   "mimetype": "text/x-python",
   "name": "python",
   "nbconvert_exporter": "python",
   "pygments_lexer": "ipython3",
   "version": "3.12.4"
  }
 },
 "nbformat": 4,
 "nbformat_minor": 5
}
